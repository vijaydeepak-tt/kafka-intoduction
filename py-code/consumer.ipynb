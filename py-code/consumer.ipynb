{
 "cells": [
  {
   "cell_type": "code",
   "execution_count": null,
   "id": "bb9af639-47f8-4d95-8ee2-2999983a7805",
   "metadata": {},
   "outputs": [
    {
     "name": "stdout",
     "output_type": "stream",
     "text": [
      "\"another_message\"\n",
      "\"another_message\"\n",
      "\"another_message\"\n"
     ]
    }
   ],
   "source": [
    "from kafka import KafkaConsumer\n",
    "import json\n",
    "\n",
    "consumer = KafkaConsumer(\n",
    "    'test-topic', # topic to consume the message from\n",
    "    bootstrap_servers=['localhost:9092'], # list of broker servers\n",
    "    auto_offset_reset='earliest', # where to start reading message when no offset is stored\n",
    "    enable_auto_commit=True, #Automattically comit offsets after consuming messages\n",
    "    value_deserializer=lambda v: v.decode('utf-8') if v else None\n",
    ")\n",
    "\n",
    "for msg in consumer:\n",
    "    print (msg.value)"
   ]
  },
  {
   "cell_type": "code",
   "execution_count": null,
   "id": "12da9679-c879-4ec0-bbcd-cb866372a204",
   "metadata": {},
   "outputs": [],
   "source": []
  }
 ],
 "metadata": {
  "kernelspec": {
   "display_name": "Python 3 (ipykernel)",
   "language": "python",
   "name": "python3"
  },
  "language_info": {
   "codemirror_mode": {
    "name": "ipython",
    "version": 3
   },
   "file_extension": ".py",
   "mimetype": "text/x-python",
   "name": "python",
   "nbconvert_exporter": "python",
   "pygments_lexer": "ipython3",
   "version": "3.13.2"
  }
 },
 "nbformat": 4,
 "nbformat_minor": 5
}
